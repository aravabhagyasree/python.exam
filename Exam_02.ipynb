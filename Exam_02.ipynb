{
 "cells": [
  {
   "cell_type": "code",
   "execution_count": 10,
   "id": "f1b95469-729e-45bb-a87f-ea3e3c599b11",
   "metadata": {},
   "outputs": [
    {
     "name": "stdin",
     "output_type": "stream",
     "text": [
      "Enter a number:  90\n"
     ]
    },
    {
     "name": "stdout",
     "output_type": "stream",
     "text": [
      "90, is not a prime number\n"
     ]
    }
   ],
   "source": [
    "num = int(input(\"Enter a number: \"))\n",
    "flag = False\n",
    "if num == 1:\n",
    "    print(f\"{num}, is not a prime number\")\n",
    "elif num > 1:\n",
    "    for i in range(2, num):\n",
    "        if (num % i) == 0:\n",
    "            flag = True \n",
    "        break\n",
    "\n",
    "if flag:\n",
    "    print(f\"{num}, is not a prime number\")\n",
    "else:\n",
    "    print(f\"{num}, is a prime number\")"
   ]
  },
  {
   "cell_type": "code",
   "execution_count": 12,
   "id": "8dc010b4-6e01-4570-ae52-a22bfd23206c",
   "metadata": {},
   "outputs": [
    {
     "name": "stdout",
     "output_type": "stream",
     "text": [
      "0 1 1 2 3 5 8 "
     ]
    }
   ],
   "source": [
    "Q2)\n",
    "def fibonacci(n):\n",
    "    a, b = 0, 1\n",
    "    while a < n:\n",
    "        print(a, end=' ')\n",
    "        a, b = b, a + b\n",
    "fibonacci(10)"
   ]
  },
  {
   "cell_type": "code",
   "execution_count": 1,
   "id": "34f8f292-192e-41de-9df4-7cfc8e2afbe1",
   "metadata": {},
   "outputs": [
    {
     "name": "stdin",
     "output_type": "stream",
     "text": [
      "Display multiplication table of:  9\n"
     ]
    },
    {
     "name": "stdout",
     "output_type": "stream",
     "text": [
      "9 X 1 = 9\n",
      "9 X 2 = 18\n",
      "9 X 3 = 27\n",
      "9 X 4 = 36\n",
      "9 X 5 = 45\n",
      "9 X 6 = 54\n",
      "9 X 7 = 63\n",
      "9 X 8 = 72\n",
      "9 X 9 = 81\n",
      "9 X 10 = 90\n"
     ]
    }
   ],
   "source": [
    "Q6)\n",
    "num = int(input(\"Display multiplication table of: \"))\n",
    "i=1\n",
    "while i <=10:\n",
    "    print(f\"{num} X {i} = {num*i}\")\n",
    "    i=i+1"
   ]
  },
  {
   "cell_type": "code",
   "execution_count": 5,
   "id": "d248499f-c4f7-45d8-897e-59e5cbe4bc7a",
   "metadata": {},
   "outputs": [
    {
     "name": "stdin",
     "output_type": "stream",
     "text": [
      "Enter a year to check if it's a leap year:  2024\n"
     ]
    },
    {
     "name": "stdout",
     "output_type": "stream",
     "text": [
      "2024 is a leap year.\n"
     ]
    }
   ],
   "source": [
    "# Q8)\n",
    "yearr= int(input(\"Enter a year to check if it's a leap year: \"))\n",
    "\n",
    "if (yearr % 4 == 0 and yearr % 100 != 0) or (yearr % 400 == 0):\n",
    "    print(f\"{yearr} is a leap year.\")\n",
    "else:\n",
    "    print(f\"{yearr} is not a leap year.\")\n"
   ]
  },
  {
   "cell_type": "code",
   "execution_count": 7,
   "id": "9ff74b7d-a9af-48a9-affa-6fd12c374c6f",
   "metadata": {},
   "outputs": [
    {
     "name": "stdout",
     "output_type": "stream",
     "text": [
      "elements : ['can', 'canner', 'you', 'not', 'with', 'but', 'the']\n",
      "count : [4, 3, 3, 1, 1, 1, 1]\n"
     ]
    }
   ],
   "source": [
    "# Q9)\n",
    "\n",
    "input='can canner can you can not canner with you but you can the canner'\n",
    "l=input.split()\n",
    "l1=[]\n",
    "counter=[]\n",
    "elements=[]\n",
    "for i in l:\n",
    "    if i not in l1:\n",
    "        counter.append(l.count(i))\n",
    "        elements.append(i)\n",
    "        l1.append(i)\n",
    "\n",
    "print(f'elements : {elements}')\n",
    "print(f'count : {counter}')"
   ]
  }
 ],
 "metadata": {
  "kernelspec": {
   "display_name": "Python [conda env:base] *",
   "language": "python",
   "name": "conda-base-py"
  },
  "language_info": {
   "codemirror_mode": {
    "name": "ipython",
    "version": 3
   },
   "file_extension": ".py",
   "mimetype": "text/x-python",
   "name": "python",
   "nbconvert_exporter": "python",
   "pygments_lexer": "ipython3",
   "version": "3.12.7"
  }
 },
 "nbformat": 4,
 "nbformat_minor": 5
}
